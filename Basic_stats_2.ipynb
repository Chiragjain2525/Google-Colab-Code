{
  "nbformat": 4,
  "nbformat_minor": 0,
  "metadata": {
    "colab": {
      "provenance": [],
      "toc_visible": true,
      "include_colab_link": true
    },
    "kernelspec": {
      "name": "python3",
      "display_name": "Python 3"
    },
    "language_info": {
      "name": "python"
    }
  },
  "cells": [
    {
      "cell_type": "markdown",
      "metadata": {
        "id": "view-in-github",
        "colab_type": "text"
      },
      "source": [
        "<a href=\"https://colab.research.google.com/github/Chiragjain2525/Google-Colab-Code/blob/main/Basic_stats_2.ipynb\" target=\"_parent\"><img src=\"https://colab.research.google.com/assets/colab-badge.svg\" alt=\"Open In Colab\"/></a>"
      ]
    },
    {
      "cell_type": "code",
      "execution_count": null,
      "metadata": {
        "id": "fDEFWyN74H8Z"
      },
      "outputs": [],
      "source": [
        "import numpy as np\n",
        "import scipy.stats as stats\n",
        "import pandas as pd\n"
      ]
    },
    {
      "cell_type": "code",
      "source": [
        "def confidence_interval_sample_sd(data, confidence=0.99):\n",
        "    n = len(data)\n",
        "    mean = np.mean(data)\n",
        "    std_dev = np.std(data, ddof=1)  # Sample standard deviation\n",
        "    t_value = stats.t.ppf((1 + confidence) / 2, df=n-1)\n",
        "    margin_of_error = t_value * (std_dev / np.sqrt(n))\n",
        "    return mean - margin_of_error, mean + margin_of_error"
      ],
      "metadata": {
        "id": "rbNLMMOb4KZJ"
      },
      "execution_count": null,
      "outputs": []
    },
    {
      "cell_type": "code",
      "source": [
        "def confidence_interval_population_sd(data, pop_std_dev, confidence=0.99):\n",
        "    n = len(data)\n",
        "    mean = np.mean(data)\n",
        "    z_value = stats.norm.ppf((1 + confidence) / 2)\n",
        "    margin_of_error = z_value * (pop_std_dev / np.sqrt(n))\n",
        "    return mean - margin_of_error, mean + margin_of_error\n"
      ],
      "metadata": {
        "id": "0IGjWh2U4Pp0"
      },
      "execution_count": null,
      "outputs": []
    },
    {
      "cell_type": "code",
      "source": [
        "# Given data\n",
        "data = [1.13, 1.55, 1.43, 0.92, 1.25, 1.36, 1.32, 0.85, 1.07, 1.48, 1.20, 1.33, 1.18, 1.22, 1.29]\n",
        "population_std_dev = 0.2\n"
      ],
      "metadata": {
        "id": "xLOJHS_74SUv"
      },
      "execution_count": null,
      "outputs": []
    },
    {
      "cell_type": "code",
      "source": [
        "# Compute confidence intervals\n",
        "ci_sample_sd = confidence_interval_sample_sd(data)\n",
        "ci_population_sd = confidence_interval_population_sd(data, population_std_dev)"
      ],
      "metadata": {
        "id": "uHTOejcZ4ee1"
      },
      "execution_count": null,
      "outputs": []
    },
    {
      "cell_type": "code",
      "source": [
        "\n",
        "print(f\"99% Confidence Interval using Sample Standard Deviation: {ci_sample_sd}\")\n",
        "print(f\"99% Confidence Interval using Known Population Standard Deviation: {ci_population_sd}\")\n"
      ],
      "metadata": {
        "colab": {
          "base_uri": "https://localhost:8080/"
        },
        "id": "c5J5vJNn4fNW",
        "outputId": "97d01af8-5d2a-43e9-b7ca-203ea8e29bd9"
      },
      "execution_count": null,
      "outputs": [
        {
          "output_type": "stream",
          "name": "stdout",
          "text": [
            "99% Confidence Interval using Sample Standard Deviation: (1.0901973384384906, 1.3871359948948425)\n",
            "99% Confidence Interval using Known Population Standard Deviation: (1.1056514133957607, 1.3716819199375725)\n"
          ]
        }
      ]
    },
    {
      "cell_type": "code",
      "source": [],
      "metadata": {
        "id": "h2awt7Im4kOe"
      },
      "execution_count": null,
      "outputs": []
    }
  ]
}