{
  "cells": [
    {
      "cell_type": "markdown",
      "metadata": {
        "id": "view-in-github",
        "colab_type": "text"
      },
      "source": [
        "<a href=\"https://colab.research.google.com/github/Chiragjain2525/Google-Colab-Code/blob/main/Basics_of_python.ipynb\" target=\"_parent\"><img src=\"https://colab.research.google.com/assets/colab-badge.svg\" alt=\"Open In Colab\"/></a>"
      ]
    },
    {
      "cell_type": "code",
      "execution_count": null,
      "metadata": {
        "colab": {
          "base_uri": "https://localhost:8080/"
        },
        "id": "IHk4s3pw-iKD",
        "outputId": "0fd2dff2-f24c-4940-9af0-2b2049a5536e"
      },
      "outputs": [
        {
          "output_type": "stream",
          "name": "stdout",
          "text": [
            "Prime Check (29): True\n",
            "What is 6 * 6? 36\n",
            "Correct!\n",
            "100^2 = 10000\n",
            "102^2 = 10404\n",
            "104^2 = 10816\n",
            "106^2 = 11236\n",
            "108^2 = 11664\n",
            "110^2 = 12100\n",
            "112^2 = 12544\n",
            "114^2 = 12996\n",
            "116^2 = 13456\n",
            "118^2 = 13924\n",
            "120^2 = 14400\n",
            "122^2 = 14884\n",
            "124^2 = 15376\n",
            "126^2 = 15876\n",
            "128^2 = 16384\n",
            "130^2 = 16900\n",
            "132^2 = 17424\n",
            "134^2 = 17956\n",
            "136^2 = 18496\n",
            "138^2 = 19044\n",
            "140^2 = 19600\n",
            "142^2 = 20164\n",
            "144^2 = 20736\n",
            "146^2 = 21316\n",
            "148^2 = 21904\n",
            "150^2 = 22500\n",
            "152^2 = 23104\n",
            "154^2 = 23716\n",
            "156^2 = 24336\n",
            "158^2 = 24964\n",
            "160^2 = 25600\n",
            "162^2 = 26244\n",
            "164^2 = 26896\n",
            "166^2 = 27556\n",
            "168^2 = 28224\n",
            "170^2 = 28900\n",
            "172^2 = 29584\n",
            "174^2 = 30276\n",
            "176^2 = 30976\n",
            "178^2 = 31684\n",
            "180^2 = 32400\n",
            "182^2 = 33124\n",
            "184^2 = 33856\n",
            "186^2 = 34596\n",
            "188^2 = 35344\n",
            "190^2 = 36100\n",
            "192^2 = 36864\n",
            "194^2 = 37636\n",
            "196^2 = 38416\n",
            "198^2 = 39204\n",
            "200^2 = 40000\n",
            "'this': 2\n",
            "'is': 1\n",
            "'a': 1\n",
            "'sample': 1\n",
            "'text': 2\n",
            "'will': 1\n",
            "'be': 1\n",
            "'used': 1\n",
            "'to': 1\n",
            "'demonstrate': 1\n",
            "'the': 1\n",
            "'word': 1\n",
            "'counter': 1\n",
            "Palindrome Check (racecar): True\n"
          ]
        }
      ],
      "source": [
        "import random\n",
        "import string\n",
        "from collections import Counter\n",
        "import pandas as pd\n",
        "import numpy as np\n",
        "import matplotlib.pyplot as plt\n",
        "import seaborn as sns\n"
      ]
    },
    {
      "cell_type": "code",
      "source": [
        "def is_prime(n):\n",
        "    \"\"\"Check if a number is prime.\"\"\"\n",
        "    if n <= 1:\n",
        "        return False\n",
        "    for i in range(2, int(n ** 0.5) + 1):\n",
        "        if n % i == 0:\n",
        "            return False\n",
        "    return True"
      ],
      "metadata": {
        "id": "ydc3nLA8aQpr"
      },
      "execution_count": null,
      "outputs": []
    },
    {
      "cell_type": "code",
      "source": [
        "# Exercise 2: Product of Random Numbers\n",
        "def product_quiz():\n",
        "    \"\"\"Generate two random numbers and ask the user for their product.\"\"\"\n",
        "    num1 = random.randint(1, 10)\n",
        "    num2 = random.randint(1, 10)\n",
        "    correct_answer = num1 * num2\n",
        "    user_answer = int(input(f\"What is {num1} * {num2}? \"))\n",
        "    if user_answer == correct_answer:\n",
        "        print(\"Correct!\")\n",
        "    else:\n",
        "        print(f\"Wrong. The correct answer is {correct_answer}.\")\n"
      ],
      "metadata": {
        "id": "P7Y0JHmtaRR5"
      },
      "execution_count": null,
      "outputs": []
    },
    {
      "cell_type": "code",
      "source": [
        "# Exercise 3: Squares of Even Numbers\n",
        "def squares_of_even():\n",
        "    \"\"\"Print squares of even numbers from 100 to 200.\"\"\"\n",
        "    for i in range(100, 201):\n",
        "        if i % 2 == 0:\n",
        "            print(f\"{i}^2 = {i ** 2}\")"
      ],
      "metadata": {
        "id": "eavjvdS7aeWn"
      },
      "execution_count": null,
      "outputs": []
    },
    {
      "cell_type": "code",
      "source": [
        "# Exercise 4: Word Counter\n",
        "def word_counter(text):\n",
        "    \"\"\"Count occurrences of words in a given text.\"\"\"\n",
        "    words = text.lower().translate(str.maketrans('', '', string.punctuation)).split()\n",
        "    word_count = Counter(words)\n",
        "    for word, count in word_count.items():\n",
        "        print(f\"'{word}': {count}\")"
      ],
      "metadata": {
        "id": "9SZ-Y3Ijah7E"
      },
      "execution_count": null,
      "outputs": []
    },
    {
      "cell_type": "code",
      "source": [
        "# Exercise 5: Check for Palindrome\n",
        "def is_palindrome(s):\n",
        "    \"\"\"Check if a given string is a palindrome.\"\"\"\n",
        "    s = ''.join(filter(str.isalnum, s)).lower()\n",
        "    return s == s[::-1]\n"
      ],
      "metadata": {
        "id": "MGHQzc8xamtV"
      },
      "execution_count": null,
      "outputs": []
    },
    {
      "cell_type": "code",
      "source": [
        "# Testing the functions\n",
        "if __name__ == \"__main__\":\n",
        "    print(\"Prime Check (29):\", is_prime(29))\n",
        "    product_quiz()\n",
        "    squares_of_even()\n",
        "    text = \"This is a sample text. This text will be used to demonstrate the word counter.\"\n",
        "    word_counter(text)\n",
        "    print(\"Palindrome Check (racecar):\", is_palindrome(\"racecar\"))"
      ],
      "metadata": {
        "id": "oz27kxnTanql"
      },
      "execution_count": null,
      "outputs": []
    }
  ],
  "metadata": {
    "colab": {
      "provenance": [],
      "authorship_tag": "ABX9TyPaVUgGA9nSqoy/0+aLUeIN",
      "include_colab_link": true
    },
    "kernelspec": {
      "display_name": "Python 3",
      "name": "python3"
    },
    "language_info": {
      "name": "python"
    }
  },
  "nbformat": 4,
  "nbformat_minor": 0
}